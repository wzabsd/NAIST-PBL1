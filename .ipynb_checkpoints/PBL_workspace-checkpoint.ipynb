{
    "cells": [
        {
            "cell_type": "code",
            "execution_count": 10,
            "source": [
                "#improt basic packages\n",
                "from rdkit import Chem\n",
                "from rdkit.Chem import AllChem\n",
                "from rdkit.Chem.Draw import IPythonConsole \n",
                "from rdkit.Chem.Draw.MolDrawing import MolDrawing, DrawingOptions\n",
                "import pandas as pd\n",
                "from rdkit.Chem import Descriptors\n",
                "from rdkit.ML.Descriptors import MoleculeDescriptors\n",
                "from icecream import ic\n"
            ],
            "outputs": [],
            "metadata": {}
        },
        {
            "cell_type": "code",
            "execution_count": null,
            "source": [
                "DrawingOptions.bondLineWidth=1.8\n",
                "mol = Chem.MolFromSmiles('BrC(Cl)C(F)(F)F')\n",
                "mol"
            ],
            "outputs": [],
            "metadata": {}
        },
        {
            "cell_type": "code",
            "execution_count": 16,
            "source": [
                "df = pd.read_csv('/home/wzabsd/Desktop/NAIST-PBL1/datasets/3CL_enzymatic_activity-clean.tsv', sep='\\t')\n",
                "print(df.head(n=5))\n",
                "df.info()"
            ],
            "outputs": [
                {
                    "output_type": "stream",
                    "name": "stdout",
                    "text": [
                        "         SAMPLE_ID                                      washed_SMILES  \\\n",
                        "0  NCGC00093656-03  Br/C=C/C=1C(=O)NC(=O)N([C@@H]2O[C@H](CO)[C@@H]...   \n",
                        "1  NCGC00262958-01  Br/C=C\\C=1C(=O)NC(=O)N([C@@H]2[C@@H](O)[C@H](O...   \n",
                        "2  NCGC00162076-02  BrC(Br)(P(OP(=O)(OC[C@@H]1[C@@H](O)[C@@H](O)[C...   \n",
                        "3  NCGC00160445-02                             BrC(C(=O)NC(=O)N)C(C)C   \n",
                        "4  NCGC00090868-06                                    BrC(Cl)C(F)(F)F   \n",
                        "\n",
                        "   mean_pAC50     Class                                        PRIMARY_MOA  \\\n",
                        "0         NaN  Inactive                    Reverse Transcriptase Inhibitor   \n",
                        "1         NaN  Inactive                                                NaN   \n",
                        "2         NaN  Inactive                                                NaN   \n",
                        "3         NaN  Inactive                                                NaN   \n",
                        "4         NaN  Inactive  Gaba-a Receptor; Anion Channel Positive Allost...   \n",
                        "\n",
                        "   range_pAC50  count_IDs      SAMPLE_NAME  PUBCHEM_SID  \\\n",
                        "0          NaN          1        Brivudine   90341813.0   \n",
                        "1          NaN          1         Bravavir  170466041.0   \n",
                        "2          NaN          1  NCGC00162076-02   90340731.0   \n",
                        "3          NaN          1     Bromisovalum  170465828.0   \n",
                        "4          NaN          1        HALOTHANE  405558947.0   \n",
                        "\n",
                        "                                   LIBRARY              ASSAY_NAME  \\\n",
                        "0                          Anti-infectives  3CL enzymatic activity   \n",
                        "1          Approved Drugs Collection (NPC)  3CL enzymatic activity   \n",
                        "2  Annotated/Bioactive Compound Collection  3CL enzymatic activity   \n",
                        "3          Approved Drugs Collection (NPC)  3CL enzymatic activity   \n",
                        "4          Approved Drugs Collection (NPC)  3CL enzymatic activity   \n",
                        "\n",
                        "  CURVE_CLASS2      EFFICACY  \\\n",
                        "0          4.0           0.0   \n",
                        "1          4.0           0.0   \n",
                        "2          4.0           0.0   \n",
                        "3          4.0  -12.16316386   \n",
                        "4          4.0           0.0   \n",
                        "\n",
                        "                                              SMILES  \\\n",
                        "0  Br/C=C/C=1C(=O)NC(=O)N([C@@H]2O[C@H](CO)[C@@H]...   \n",
                        "1  Br/C=C\\C=1C(=O)NC(=O)N([C@@H]2[C@@H](O)[C@H](O...   \n",
                        "2  BrC(Br)(P(OP(=O)(OC[C@@H]1[C@@H](O)[C@@H](O)[C...   \n",
                        "3                             BrC(C(=O)NC(=O)N)C(C)C   \n",
                        "4                                    BrC(Cl)C(F)(F)F   \n",
                        "\n",
                        "                                          ALL-SMILES  \n",
                        "0  Br/C=C/C=1C(=O)NC(=O)N([C@@H]2O[C@H](CO)[C@@H]...  \n",
                        "1  Br/C=C\\C=1C(=O)NC(=O)N([C@@H]2[C@@H](O)[C@H](O...  \n",
                        "2  BrC(Br)(P(OP(=O)(OC[C@@H]1[C@@H](O)[C@@H](O)[C...  \n",
                        "3                             BrC(C(=O)NC(=O)N)C(C)C  \n",
                        "4                                    BrC(Cl)C(F)(F)F  \n",
                        "<class 'pandas.core.frame.DataFrame'>\n",
                        "RangeIndex: 9465 entries, 0 to 9464\n",
                        "Data columns (total 15 columns):\n",
                        " #   Column         Non-Null Count  Dtype  \n",
                        "---  ------         --------------  -----  \n",
                        " 0   SAMPLE_ID      9465 non-null   object \n",
                        " 1   washed_SMILES  9465 non-null   object \n",
                        " 2   mean_pAC50     314 non-null    float64\n",
                        " 3   Class          9465 non-null   object \n",
                        " 4   PRIMARY_MOA    5650 non-null   object \n",
                        " 5   range_pAC50    314 non-null    float64\n",
                        " 6   count_IDs      9465 non-null   int64  \n",
                        " 7   SAMPLE_NAME    9465 non-null   object \n",
                        " 8   PUBCHEM_SID    9439 non-null   object \n",
                        " 9   LIBRARY        9465 non-null   object \n",
                        " 10  ASSAY_NAME     9465 non-null   object \n",
                        " 11  CURVE_CLASS2   9465 non-null   object \n",
                        " 12  EFFICACY       9241 non-null   object \n",
                        " 13  SMILES         9465 non-null   object \n",
                        " 14  ALL-SMILES     9465 non-null   object \n",
                        "dtypes: float64(2), int64(1), object(12)\n",
                        "memory usage: 1.1+ MB\n"
                    ]
                }
            ],
            "metadata": {}
        },
        {
            "cell_type": "code",
            "execution_count": null,
            "source": [
                "len(Descriptors._descList) # Or you can use chem.des to retrieve more than 3000 types of descriptor.\n"
            ],
            "outputs": [],
            "metadata": {}
        },
        {
            "cell_type": "code",
            "execution_count": null,
            "source": [
                "len(range(0,1))"
            ],
            "outputs": [],
            "metadata": {}
        }
    ],
    "metadata": {
        "orig_nbformat": 4,
        "language_info": {
            "name": "python",
            "version": "3.9.6",
            "mimetype": "text/x-python",
            "codemirror_mode": {
                "name": "ipython",
                "version": 3
            },
            "pygments_lexer": "ipython3",
            "nbconvert_exporter": "python",
            "file_extension": ".py"
        },
        "kernelspec": {
            "name": "python3",
            "display_name": "Python 3.9.6 64-bit ('base': conda)"
        },
        "interpreter": {
            "hash": "569d6b7e9215e11aba41c6454007e5c1b78bad7df09dab765d8cf00362c40f03"
        }
    },
    "nbformat": 4,
    "nbformat_minor": 2
}