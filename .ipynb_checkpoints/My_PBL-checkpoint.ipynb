{
 "cells": [
  {
   "cell_type": "code",
   "execution_count": null,
   "source": [
    "import numpy as np\n",
    "import pandas as pd\n",
    "import os\n",
    "import seaborn as sns\n",
    "import matplotlib as mpl\n",
    "import matplotlib.pyplot as plt"
   ],
   "outputs": [],
   "metadata": {}
  },
  {
   "cell_type": "code",
   "execution_count": null,
   "source": [
    "df = pd.read_csv('/home/wzabsd/Desktop/NAIST-PBL1/data/test.csv')\n",
    "df.head()\n",
    "smiles_l=df['mol'].tolist()\n",
    "mols_l=[Chem.MolFromSmiles(smile) for smile in smiles_l]"
   ],
   "outputs": [],
   "metadata": {}
  },
  {
   "cell_type": "code",
   "execution_count": null,
   "source": [
    "des_l=[des_name[0] for des_name in Descriptors._descList]\n",
    "desc_calc = MoleculeDescriptors.MolecularDescriptorCalculator(des_l)\n",
    "descriptors = pd.DataFrame([desc_calc.CalcDescriptors(mol) for mol in mols_l])\n",
    "descriptors.columns = des_l\n",
    "descriptors.index = smiles_l"
   ],
   "outputs": [],
   "metadata": {}
  },
  {
   "cell_type": "code",
   "execution_count": null,
   "source": [
    "descriptors[\"SMILES\"]=smiles_l\n",
    "descriptors[\"mol\"]=smiles_l\n",
    "descriptors[\"SAMPLE_ID\"]=df[\"SAMPLE_ID\"].tolist()\n",
    "descriptors[\"Class\"]=df[\"Class\"].tolist()"
   ],
   "outputs": [],
   "metadata": {}
  }
 ],
 "metadata": {
  "orig_nbformat": 4,
  "language_info": {
   "name": "python",
   "version": "3.7.10"
  },
  "kernelspec": {
   "name": "python3",
   "display_name": "Python 3.7.10 64-bit ('backtrader': conda)"
  },
  "interpreter": {
   "hash": "0466e32ef895b278c1f45f16b7b7e3c6742def4ea9a23f5b611b2f486476a57a"
  }
 },
 "nbformat": 4,
 "nbformat_minor": 2
}