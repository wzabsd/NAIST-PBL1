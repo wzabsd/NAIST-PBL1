{
    "cells": [
        {
            "cell_type": "code",
            "execution_count": 1,
            "source": [
                "#improt basic packages\n",
                "from rdkit import Chem\n",
                "from rdkit.Chem import AllChem\n",
                "from rdkit.Chem.Draw import IPythonConsole \n",
                "from rdkit.Chem.Draw.MolDrawing import MolDrawing, DrawingOptions\n",
                "import pandas as pd\n",
                "from rdkit.Chem import Descriptors\n",
                "from rdkit.ML.Descriptors import MoleculeDescriptors"
            ],
            "outputs": [],
            "metadata": {}
        },
        {
            "cell_type": "code",
            "execution_count": null,
            "source": [
                "DrawingOptions.bondLineWidth=1.8\n",
                "mol = Chem.MolFromSmiles('BrC(Cl)C(F)(F)F')\n",
                "mol"
            ],
            "outputs": [],
            "metadata": {}
        },
        {
            "cell_type": "code",
            "execution_count": null,
            "source": [
                "df = pd.read_csv('/home/wzabsd/Desktop/NAIST-PBL1/datasets/3CL_enzymatic_activity-clean.csv', sep='\\t')\n",
                "df.head\n"
            ],
            "outputs": [],
            "metadata": {}
        },
        {
            "cell_type": "code",
            "execution_count": null,
            "source": [
                "len(Descriptors._descList) # Or you can use chem.des to retrieve more than 3000 types of descriptor.\n"
            ],
            "outputs": [],
            "metadata": {}
        },
        {
            "cell_type": "code",
            "execution_count": 16,
            "source": [
                "len(range(0,1))"
            ],
            "outputs": [
                {
                    "output_type": "execute_result",
                    "data": {
                        "text/plain": [
                            "1"
                        ]
                    },
                    "metadata": {},
                    "execution_count": 16
                }
            ],
            "metadata": {}
        }
    ],
    "metadata": {
        "orig_nbformat": 4,
        "language_info": {
            "name": "python",
            "version": "3.9.6",
            "mimetype": "text/x-python",
            "codemirror_mode": {
                "name": "ipython",
                "version": 3
            },
            "pygments_lexer": "ipython3",
            "nbconvert_exporter": "python",
            "file_extension": ".py"
        },
        "kernelspec": {
            "name": "python3",
            "display_name": "Python 3.9.6 64-bit ('base': conda)"
        },
        "interpreter": {
            "hash": "569d6b7e9215e11aba41c6454007e5c1b78bad7df09dab765d8cf00362c40f03"
        }
    },
    "nbformat": 4,
    "nbformat_minor": 2
}