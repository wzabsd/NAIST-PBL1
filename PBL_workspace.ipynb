{
 "cells": [
  {
   "cell_type": "code",
   "execution_count": 1,
   "source": [
    "\n",
    "#improt basic packages\n",
    "import rdkit\n",
    "from rdkit import Chem\n",
    "from rdkit.Chem import AllChem\n",
    "from rdkit.Chem import Draw\n",
    "from rdkit.Chem.Draw import IPythonConsole\n",
    "from rdkit.Chem.Draw.MolDrawing import MolDrawing, DrawingOptions\n",
    "import pandas as pd\n",
    "import numpy as np\n",
    "from rdkit.Chem import Descriptors\n",
    "from rdkit.ML.Descriptors import MoleculeDescriptors\n",
    "from IPython.core.interactiveshell import InteractiveShell\n",
    "#from pandas_profiling import ProfileReport\n",
    "#import umap\n",
    "\n",
    "InteractiveShell.ast_node_interactivity = \"all\"\n"
   ],
   "outputs": [],
   "metadata": {}
  },
  {
   "cell_type": "code",
   "execution_count": null,
   "source": [
    "DrawingOptions.bondLineWidth=1.8\n",
    "mol = Chem.MolFromSmiles('Brc1c(N)c(CNC2CCC(O)CC2)cc(Br)c1')\n",
    "mol2=Chem.MolFromSmiles('C1CC(CCC1NCC2=C(C(=CC(=C2)Br)Br)N)O')\n",
    "mol3=Chem.MolFromSmiles('[As](=O)(O)(O)c1ccc(NC(=O)N)cc1')\n",
    "Descriptors.MolLogP(mol)\n",
    "Descriptors.MolLogP(mol2)\n",
    "mol\n",
    "mol2\n",
    "mol3\n",
    "rdkit.Chem.rdMolDescriptors.BCUT2D(mol3)"
   ],
   "outputs": [],
   "metadata": {}
  },
  {
   "cell_type": "code",
   "execution_count": null,
   "source": [
    "df = pd.read_csv('/home/wzabsd/Desktop/NAIST-PBL1/datasets/3CL_enzymatic_activity-clean.tsv', sep='\\t')\n",
    "#df.head()\n",
    "profile = ProfileReport(df, title=\"Pandas Profiling Report\")\n"
   ],
   "outputs": [],
   "metadata": {}
  },
  {
   "cell_type": "code",
   "execution_count": null,
   "source": [
    "\n",
    "smiles_l=df['washed_SMILES'].tolist()\n",
    "smiles_l[smiles_l.index('[i+]1c2c(c3c1cccc3)cccc2')]='C1=CC=C2C(=C1)C3=CC=CC=C3[I+]2'\n",
    "#smiles_l.head()\n",
    "mols_l=[Chem.MolFromSmiles(smile) for smile in smiles_l]\n",
    "#Chem.MolToMolFile(mols_l, '/home/wzabsd/Desktop/NAIST-PBL1/output.mol')"
   ],
   "outputs": [],
   "metadata": {}
  },
  {
   "cell_type": "code",
   "execution_count": null,
   "source": [
    "des_l=[des_name[0] for des_name in Descriptors._descList]\n",
    "desc_calc = MoleculeDescriptors.MolecularDescriptorCalculator(des_l)\n",
    "descriptors = pd.DataFrame([desc_calc.CalcDescriptors(mol) for mol in mols_l])\n",
    "descriptors.columns = des_l\n",
    "descriptors.index = smiles_l"
   ],
   "outputs": [],
   "metadata": {}
  },
  {
   "cell_type": "code",
   "execution_count": null,
   "source": [
    "features=descriptors\n"
   ],
   "outputs": [],
   "metadata": {}
  },
  {
   "cell_type": "code",
   "execution_count": null,
   "source": [
    "descriptors.head()\n"
   ],
   "outputs": [],
   "metadata": {}
  },
  {
   "cell_type": "code",
   "execution_count": null,
   "source": [
    "import matplotlib.pyplot as plt\n",
    "from sklearn.datasets import load_digits\n",
    "from sklearn.model_selection import train_test_split\n",
    "from sklearn.preprocessing import StandardScaler\n",
    "df_traning = pd.read_csv('/home/wzabsd/Desktop/NAIST-PBL1/descriptors_selected.csv')\n",
    "df_traning_data = df_traning.loc[:,\"MolLogP\":\"EState_VSA9\"].values\n",
    "df_traning_data=StandardScaler().fit_transform(df_traning_data)\n",
    "df_traning.head()\n",
    "reducer = umap.UMAP(random_state=2021)\n",
    "embedding = reducer.fit_transform(df_traning_data)"
   ],
   "outputs": [],
   "metadata": {}
  },
  {
   "cell_type": "code",
   "execution_count": null,
   "source": [
    "import matplotlib.pyplot as plt\n",
    "from sklearn.datasets import load_digits\n",
    "from sklearn.model_selection import train_test_split\n",
    "from sklearn.preprocessing import StandardScaler\n",
    "df_traning = pd.read_csv('/home/wzabsd/Desktop/NAIST-PBL1/descriptors_selected.csv')\n",
    "df_traning.head()\n",
    "df_traning_data = df_traning.loc[:,\"FractionCSP3\":\"VSA_EState3\"].values\n",
    "df_traning_data=StandardScaler().fit_transform(df_traning_data)\n",
    "reducer = umap.UMAP(random_state=24)\n",
    "embedding = reducer.fit_transform(df_traning_data)\n",
    "embedding.shape\n",
    "import seaborn as sns\n",
    "plt.scatter(\n",
    "    embedding[:, 0],\n",
    "    embedding[:, 1],\n",
    "    c=[sns.color_palette()[x] for x in df_traning.Class.map({\"Active\":1, \"Inactive\":0})])\n",
    "plt.gca().set_aspect('equal', 'datalim')\n",
    "plt.title('UMAP projection of the descriptors dataset', fontsize=24)"
   ],
   "outputs": [],
   "metadata": {}
  },
  {
   "cell_type": "code",
   "execution_count": null,
   "source": [
    "penguins = pd.read_csv(\"https://github.com/allisonhorst/palmerpenguins/raw/5b5891f01b52ae26ad8cb9755ec93672f49328a8/data/penguins_size.csv\")\n",
    "penguins = penguins.dropna()\n",
    "penguins.species_short.value_counts()\n",
    "reducer = umap.UMAP()\n",
    "penguin_data = penguins[\n",
    "    [\n",
    "        \"culmen_length_mm\",\n",
    "        \"culmen_depth_mm\",\n",
    "        \"flipper_length_mm\",\n",
    "        \"body_mass_g\",\n",
    "    ]\n",
    "].values\n",
    "scaled_penguin_data = StandardScaler().fit_transform(penguin_data)\n",
    "embedding = reducer.fit_transform(scaled_penguin_data)\n",
    "penguins.head()\n",
    "plt.scatter(\n",
    "    embedding[:, 0],\n",
    "    embedding[:, 1],\n",
    "    c=[sns.color_palette()[x] for x in penguins.species_short.map({\"Adelie\":0, \"Chinstrap\":1, \"Gentoo\":2})])\n",
    "plt.gca().set_aspect('equal', 'datalim')\n",
    "plt.title('UMAP projection of the Penguin dataset', fontsize=24)"
   ],
   "outputs": [],
   "metadata": {}
  },
  {
   "cell_type": "code",
   "execution_count": 5,
   "source": [
    "import os\n",
    "os.chdir('/home/wzabsd/Desktop/NAIST-PBL1/')"
   ],
   "outputs": [],
   "metadata": {}
  },
  {
   "cell_type": "code",
   "execution_count": 7,
   "source": [
    "from DeepPurpose import oneliner\n",
    "from DeepPurpose.dataset import *\n",
    "from DeepPurpose import dataset\n",
    "\n",
    "X_drug, X_drug_names = dataset.read_file_repurposing_library(\"/home/wzabsd/Desktop/NAIST-PBL1/data/test.tab\")\n",
    "\n",
    "oneliner.repurpose(*load_SARS_CoV2_Protease_3CL(), \n",
    "                   X_repurpose=X_drug,\n",
    "                   drug_names=X_drug_names,\n",
    "                   pretrained_dir='/home/wzabsd/Desktop/NAIST-PBL1/save_folder/pretrained_models/DeepPurpose_BindingDB/',\n",
    "                   finetune_epochs=100,\n",
    "                   finetune_batch_size=128\n",
    "                   )"
   ],
   "outputs": [
    {
     "output_type": "stream",
     "name": "stdout",
     "text": [
      "Loading customized repurposing dataset...\n",
      "Checking if pretrained directory is valid...\n",
      "Beginning to load the pretrained models...\n",
      "Using pretrained model and making predictions...\n",
      "repurposing...\n",
      "Drug Target Interaction Prediction Mode...\n",
      "in total: 9465 drug-target pairs\n",
      "encoding drug...\n",
      "unique drugs: 9465\n"
     ]
    }
   ],
   "metadata": {}
  },
  {
   "cell_type": "code",
   "execution_count": null,
   "source": [
    "import pandas as pd\n",
    "\n",
    "df = pd.read_csv('/home/wzabsd/Desktop/NAIST-PBL1/datasets/3CL_enzymatic_activity-clean.tsv', sep='\\t')\n",
    "df.head()\n",
    "df=df.iloc[:,[0,1]]\n",
    "df.to_csv(\"/home/wzabsd/Desktop/data/test.tab\",index=False,sep='\\t')\n"
   ],
   "outputs": [],
   "metadata": {}
  }
 ],
 "metadata": {
  "interpreter": {
   "hash": "e875e3590c1a5e111bc8e850c6f4594125d85c79762f315cd4a33217bb758ab5"
  },
  "kernelspec": {
   "name": "python3",
   "display_name": "Python 3.6.13 64-bit ('MGA': conda)"
  },
  "language_info": {
   "codemirror_mode": {
    "name": "ipython",
    "version": 3
   },
   "file_extension": ".py",
   "mimetype": "text/x-python",
   "name": "python",
   "nbconvert_exporter": "python",
   "pygments_lexer": "ipython3",
   "version": "3.6.13"
  }
 },
 "nbformat": 4,
 "nbformat_minor": 4
}